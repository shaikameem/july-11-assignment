{
 "cells": [
  {
   "cell_type": "code",
   "execution_count": 1,
   "id": "102b2879",
   "metadata": {},
   "outputs": [],
   "source": [
    "## .format"
   ]
  },
  {
   "cell_type": "code",
   "execution_count": 2,
   "id": "e814e91b",
   "metadata": {},
   "outputs": [
    {
     "name": "stdout",
     "output_type": "stream",
     "text": [
      "name is ameem and my age is 22 and my salary is 15000\n"
     ]
    }
   ],
   "source": [
    "name=\"ameem\"\n",
    "age=22\n",
    "salary=15000\n",
    "print(\"name is {} and my age is {} and my salary is {}\".format(name,age,salary))"
   ]
  },
  {
   "cell_type": "code",
   "execution_count": 2,
   "id": "3cd1093c",
   "metadata": {},
   "outputs": [
    {
     "name": "stdout",
     "output_type": "stream",
     "text": [
      "name is bablu and my age is 200 and my weight is 400\n"
     ]
    }
   ],
   "source": [
    "name=\"bablu\"\n",
    "age=200\n",
    "weight=400\n",
    "print(\"name is {} and my age is {} and my weight is {}\".format(name,age,weight))"
   ]
  },
  {
   "cell_type": "code",
   "execution_count": 4,
   "id": "78dcf301",
   "metadata": {},
   "outputs": [
    {
     "name": "stdout",
     "output_type": "stream",
     "text": [
      "name is mulli and my age is 2 and my pocketmoney is 15\n"
     ]
    }
   ],
   "source": [
    "name=\"mulli\"\n",
    "age=2\n",
    "pocketmoney=15\n",
    "print(\"name is {} and my age is {} and my pocketmoney is {}\".format(name,age,pocketmoney))"
   ]
  },
  {
   "cell_type": "code",
   "execution_count": null,
   "id": "0bace316",
   "metadata": {},
   "outputs": [],
   "source": []
  }
 ],
 "metadata": {
  "kernelspec": {
   "display_name": "Python 3 (ipykernel)",
   "language": "python",
   "name": "python3"
  },
  "language_info": {
   "codemirror_mode": {
    "name": "ipython",
    "version": 3
   },
   "file_extension": ".py",
   "mimetype": "text/x-python",
   "name": "python",
   "nbconvert_exporter": "python",
   "pygments_lexer": "ipython3",
   "version": "3.10.9"
  }
 },
 "nbformat": 4,
 "nbformat_minor": 5
}
